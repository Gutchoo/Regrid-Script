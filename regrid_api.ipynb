{
 "cells": [
  {
   "cell_type": "code",
   "execution_count": null,
   "id": "636cebc3",
   "metadata": {},
   "outputs": [],
   "source": [
    "from pyairtable import Table\n",
    "from pyairtable import Api\n",
    "import pandas as pd\n",
    "from tqdm import tqdm\n",
    "from pyairtable.formulas import match\n",
    "import numpy as np\n",
    "import requests\n",
    "import time\n",
    "import pprint\n",
    "from gspread_dataframe import set_with_dataframe\n",
    "import gspread\n",
    "from oauth2client.service_account import ServiceAccountCredentials\n",
    "import os"
   ]
  },
  {
   "cell_type": "code",
   "execution_count": null,
   "id": "e94e923e",
   "metadata": {},
   "outputs": [],
   "source": [
    "pd.set_option('display.max_columns', None)"
   ]
  },
  {
   "cell_type": "code",
   "execution_count": null,
   "id": "17e12701",
   "metadata": {},
   "outputs": [],
   "source": [
    "from dotenv import load_dotenv\n",
    "\n",
    "load_dotenv()  # Load variables from .env\n",
    "\n",
    "AIRTABLE_API_KEY = os.getenv('AIRTABLE_API_KEY')\n",
    "BASE_ID = os.getenv('BASE_ID')\n",
    "REGRID_API_KEY = os.getenv('REGRID_API_KEY')"
   ]
  },
  {
   "cell_type": "code",
   "execution_count": null,
   "id": "1a3a59fe",
   "metadata": {},
   "outputs": [],
   "source": [
    "# TABLE_NAME = 'Properties'\n",
    "# headers = {\n",
    "#     \"Authorization\": f\"Bearer {AIRTABLE_API_KEY}\",\n",
    "#     \"Content-Type\": \"application/json\"\n",
    "# }\n",
    "\n",
    "# response = requests.get(\"https://api.airtable.com/v0/meta/bases\", headers=headers)\n",
    "\n",
    "# if response.status_code == 200:\n",
    "#     bases = response.json().get(\"bases\", [])\n",
    "#     for b in bases:\n",
    "#         print(f\"Name: {b['name']} | ID: {b['id']}\")\n",
    "# else:\n",
    "#     print(f\"Error {response.status_code}: {response.text}\")"
   ]
  },
  {
   "cell_type": "markdown",
   "id": "5fce94be",
   "metadata": {},
   "source": [
    "## 🔍 Step 1: Pull APNs from Airtable Properties Table  \n",
    "We retrieve a list of APNs from the \"Properties\" table using the Airtable API. This will serve as our input for fetching parcel data from Regrid."
   ]
  },
  {
   "cell_type": "code",
   "execution_count": null,
   "id": "37c1df8c",
   "metadata": {},
   "outputs": [],
   "source": [
    "# Create API and access the table\n",
    "TABLE_NAME = 'Regrid'\n",
    "api = Api(AIRTABLE_API_KEY)\n",
    "table = api.table(BASE_ID, TABLE_NAME)\n",
    "\n",
    "# Get records and extract APNs\n",
    "records = table.all()\n",
    "apns = [record['fields'].get('APN') for record in records if 'APN' in record['fields']]\n",
    "\n",
    "print(f\"Pulled {len(apns)} APNs from Airtable.\")"
   ]
  },
  {
   "cell_type": "markdown",
   "id": "9ebc85b6",
   "metadata": {},
   "source": [
    "## 🌐 Step 2: Fetch Parcel Data from Regrid API  \n",
    "This function queries the Regrid API for each APN collected and returns raw parcel data."
   ]
  },
  {
   "cell_type": "code",
   "execution_count": null,
   "id": "a1b3b532",
   "metadata": {},
   "outputs": [],
   "source": [
    "# def get_parcel_by_apn(apn):\n",
    "#     url = f\"https://app.regrid.com/api/v2/parcels/apn?parcelnumb={apn}&token={REGRID_API_KEY}\"\n",
    "#     headers = {\"accept\": \"application/json\"}\n",
    "\n",
    "#     response = requests.get(url, headers=headers)\n",
    "\n",
    "#     if response.status_code == 200:\n",
    "#         data = response.json()\n",
    "\n",
    "#         # Check for parcels > features > list of parcels\n",
    "#         features = data.get('parcels', {}).get('features', [])\n",
    "#         if features:\n",
    "#             print(response.text)\n",
    "#             return features[0]  # This is the full parcel feature (geometry + properties)\n",
    "#         else:\n",
    "#             print(f\"APN {apn}: No parcel found.\")\n",
    "#             return None\n",
    "#     else:\n",
    "#         print(f\"APN {apn}: Error {response.status_code} - {response.text}\")\n",
    "#         return None"
   ]
  },
  {
   "cell_type": "code",
   "execution_count": null,
   "id": "faedb96d",
   "metadata": {},
   "outputs": [],
   "source": [
    "def get_parcel_by_apn(apn):\n",
    "    url = f\"https://app.regrid.com/api/v2/parcels/apn?parcelnumb={apn}&token={REGRID_API_KEY}\"\n",
    "    headers = {\"accept\": \"application/json\"}\n",
    "\n",
    "    response = requests.get(url, headers=headers)\n",
    "\n",
    "    if response.status_code == 200:\n",
    "        data = response.json()\n",
    "\n",
    "        # Check for parcels > features > list of parcels\n",
    "        features = data.get('parcels', {}).get('features', [])\n",
    "        if features:\n",
    "            print(f\"✅ Found parcel for APN {apn}\")\n",
    "            return features[0]  # This is the full parcel feature (geometry + properties)\n",
    "        else:\n",
    "            print(f\"⚠️ No parcel found for APN {apn}\")\n",
    "            return None\n",
    "    else:\n",
    "        print(f\"❌ Error for APN {apn}: Status {response.status_code} - {response.text}\")\n",
    "        return None"
   ]
  },
  {
   "cell_type": "markdown",
   "id": "43c8b14f",
   "metadata": {},
   "source": [
    "### 🔄 Step 3: Extract Required Fields from Regrid API Response  \n",
    "We define `extract_parcel_fields()` to format and filter the data returned by Regrid to only include the fields we care about."
   ]
  },
  {
   "cell_type": "code",
   "execution_count": null,
   "id": "2f676690",
   "metadata": {},
   "outputs": [],
   "source": [
    "def extract_parcel_fields(parcel):\n",
    "    fields = parcel['properties']['fields']\n",
    "\n",
    "    return {\n",
    "        'APN': fields.get('parcelnumb'),\n",
    "        'Latitude': fields.get('lat'),\n",
    "        'Longitude': fields.get('lon'),\n",
    "        'Owner': fields.get('owner'),\n",
    "        'Use Code': fields.get('usecode'),\n",
    "        'Use Description': fields.get('usedesc'),\n",
    "        'Zoning': fields.get('zoning'),\n",
    "        'Zoning Description': fields.get('zoning_description'),\n",
    "        'Last Sale Date': fields.get('saledate'),\n",
    "        'Last Sale Price': fields.get('saleprice'),\n",
    "        'Year Built': fields.get('yearbuilt'),\n",
    "        'Property Address': fields.get('address'),\n",
    "        'City (Physical)': fields.get('scity'),\n",
    "        # 'City (Mailing)': fields.get('mail_city'),\n",
    "        'City (County Reported)': fields.get('city'),\n",
    "        'State': fields.get('state2'),\n",
    "        'County': fields.get('county'),\n",
    "        'ZIP Code': fields.get('szip5'),\n",
    "        'Lot SqFt': fields.get('ll_gissqft'),\n",
    "        'Lot Acres': fields.get('ll_gisacre'),\n",
    "        'Subdivision': fields.get('subdivision'),\n",
    "        'Qualified Opportunity Zone': fields.get('qoz'),\n",
    "    }"
   ]
  },
  {
   "cell_type": "code",
   "execution_count": null,
   "id": "ffbf6774",
   "metadata": {},
   "outputs": [],
   "source": [
    "# ## TESTING READOUT\n",
    "\n",
    "# test_apn = \"50183176\"  # Replace with any APN you'd like to test\n",
    "# parcel = get_parcel_by_apn(test_apn)\n",
    "\n",
    "# if parcel:\n",
    "#     data = extract_parcel_fields(parcel)\n",
    "#     pprint.pprint(data)"
   ]
  },
  {
   "cell_type": "markdown",
   "id": "e024e583",
   "metadata": {},
   "source": [
    "## 🧹 Step 4: Process Each APN and Store Clean Data  \n",
    "For each APN, we get raw data from Regrid using `get_parcel_by_apn`, clean it using `extract_parcel_fields`, and append the result to `all_parcel_data`."
   ]
  },
  {
   "cell_type": "code",
   "execution_count": null,
   "id": "9e4baf69",
   "metadata": {},
   "outputs": [],
   "source": [
    "all_parcel_data = []\n",
    "\n",
    "for apn in apns:\n",
    "    parcel = get_parcel_by_apn(apn)\n",
    "    if parcel:\n",
    "        data = extract_parcel_fields(parcel)\n",
    "        all_parcel_data.append(data)\n",
    "    \n",
    "    time.sleep(0.25)  # small delay to avoid rate limits"
   ]
  },
  {
   "cell_type": "markdown",
   "id": "34e895dd",
   "metadata": {},
   "source": [
    "## ✅ Step 5: Validate and Preview Parcel Data  \n",
    "Quick visual inspection of the processed parcel data before uploading to Airtable."
   ]
  },
  {
   "cell_type": "code",
   "execution_count": null,
   "id": "62845e08",
   "metadata": {},
   "outputs": [],
   "source": [
    "all_parcel_data"
   ]
  },
  {
   "cell_type": "code",
   "execution_count": null,
   "id": "6ab837ca",
   "metadata": {},
   "outputs": [],
   "source": [
    "pprint.pprint(all_parcel_data[0])"
   ]
  },
  {
   "cell_type": "markdown",
   "id": "e5de8e44",
   "metadata": {},
   "source": [
    "## 📄 Step 6: Convert List to DataFrame\n",
    "\n",
    "Convert the list of dictionaries (all_parcel_data) into a Pandas DataFrame to allow for easier cleaning, transformation, and export."
   ]
  },
  {
   "cell_type": "code",
   "execution_count": null,
   "id": "d9047a38",
   "metadata": {},
   "outputs": [],
   "source": [
    "df = pd.DataFrame(all_parcel_data)\n",
    "df.head()"
   ]
  },
  {
   "cell_type": "markdown",
   "id": "72f6bcef",
   "metadata": {},
   "source": [
    "## 🏷️ Step 7: Add Currently Owned Column\n",
    "\n",
    "Create a new column that flags whether each property is currently owned.\n",
    "We do this by checking if the Owner field contains any known ownership keywords"
   ]
  },
  {
   "cell_type": "code",
   "execution_count": null,
   "id": "d039d298",
   "metadata": {},
   "outputs": [],
   "source": [
    "ownership_keywords = [kw.upper() for kw in os.getenv(\"OWNERSHIP_KEYWORDS\").split(\",\")]\n",
    "\n",
    "\n",
    "# Step 3: Function to check if any keyword is in the owner string\n",
    "def is_currently_owned(owner):\n",
    "    if not isinstance(owner, str):\n",
    "        return \"No\"\n",
    "    owner_upper = owner.upper()\n",
    "    return \"Yes\" if any(keyword in owner_upper for keyword in ownership_keywords) else \"No\"\n",
    "\n",
    "# Step 4: Apply the function to create the new column\n",
    "df[\"Currently Owned\"] = df[\"Owner\"].apply(is_currently_owned)\n",
    "\n",
    "# Optional: Preview results\n",
    "# Show all rows but only the APN, Owner, and Currently Owned columns\n",
    "print(df[[\"APN\", \"Owner\", \"Currently Owned\"]].to_string(index=False))"
   ]
  },
  {
   "cell_type": "code",
   "execution_count": null,
   "id": "4b52e1c5",
   "metadata": {},
   "outputs": [],
   "source": [
    "df.head()"
   ]
  },
  {
   "cell_type": "code",
   "execution_count": null,
   "id": "813569c2",
   "metadata": {},
   "outputs": [],
   "source": [
    "print(df.dtypes)"
   ]
  },
  {
   "cell_type": "markdown",
   "id": "db2423aa",
   "metadata": {},
   "source": [
    "## 💾 Step 8: Save DataFrame to CSV\n",
    "\n",
    "Save the enriched and filtered parcel data to a local CSV file.\n",
    "This lets us re-load it later without consuming additional API credits."
   ]
  },
  {
   "cell_type": "code",
   "execution_count": null,
   "id": "58f1b6ec",
   "metadata": {},
   "outputs": [],
   "source": [
    "df.to_csv(\"regrid_output.csv\", index=False)\n",
    "print(\"Saved parcel data to regrid_output.csv\")"
   ]
  },
  {
   "cell_type": "markdown",
   "id": "37d3dd9c",
   "metadata": {},
   "source": [
    "## 📂 Step 9: Reload Data from CSV\n",
    "\n",
    "Load the CSV file back into a DataFrame and apply strict column data type mappings (dtype_mapping) to ensure compatibility with Airtable."
   ]
  },
  {
   "cell_type": "markdown",
   "id": "e44980d7",
   "metadata": {},
   "source": [
    "### Mapping data types with `dtype_mapping` so they read in correctly to match airtable upload"
   ]
  },
  {
   "cell_type": "code",
   "execution_count": null,
   "id": "f96603a5",
   "metadata": {},
   "outputs": [],
   "source": [
    "dtype_mapping = {\n",
    "    'APN': str,\n",
    "    'Latitude': float,\n",
    "    'Longitude': float,\n",
    "    'Owner': str,\n",
    "    'Use Code': str,\n",
    "    'Use Description': str,\n",
    "    'Zoning': str,\n",
    "    'Zoning Description': str,\n",
    "    'Last Sale Date': str,\n",
    "    'Last Sale Price': str,\n",
    "    'Year Built': str,  # Changed to nullable integer\n",
    "    'Property Address': str,\n",
    "    'City (Physical)': str,\n",
    "    'City (County Reported)': str,\n",
    "    'State': str,\n",
    "    'County': str,\n",
    "    'ZIP Code': str,  # Keep ZIPs as strings\n",
    "    'Lot SqFt': 'Int64',  # Already set correctly\n",
    "    'Lot Acres': float,\n",
    "    'Subdivision': str,\n",
    "    'Qualified Opportunity Zone': str,\n",
    "    'Currently Owned': str\n",
    "}"
   ]
  },
  {
   "cell_type": "code",
   "execution_count": null,
   "id": "c0576884",
   "metadata": {},
   "outputs": [],
   "source": [
    "df = pd.read_csv('regrid_output.csv', dtype=dtype_mapping)\n",
    "df.head()"
   ]
  },
  {
   "cell_type": "code",
   "execution_count": null,
   "id": "cb79f6fc",
   "metadata": {},
   "outputs": [],
   "source": [
    "df[df[\"Currently Owned\"] == \"No\"].count()"
   ]
  },
  {
   "cell_type": "code",
   "execution_count": null,
   "id": "c5732d01",
   "metadata": {},
   "outputs": [],
   "source": [
    "df = df[df[\"Currently Owned\"] == \"Yes\"]\n",
    "\n",
    "print(df[[\"APN\", \"Owner\", \"Currently Owned\"]].to_string(index=False))"
   ]
  },
  {
   "cell_type": "code",
   "execution_count": null,
   "id": "85cdbb56",
   "metadata": {},
   "outputs": [],
   "source": [
    "# Remove all hyphens from the APN column\n",
    "df[\"APN\"] = df[\"APN\"].astype(str).str.replace(\"-\", \"\", regex=False)\n",
    "df.head()"
   ]
  },
  {
   "cell_type": "code",
   "execution_count": null,
   "id": "4f466133",
   "metadata": {},
   "outputs": [],
   "source": [
    "print(df.dtypes)"
   ]
  },
  {
   "cell_type": "code",
   "execution_count": null,
   "id": "1569f761",
   "metadata": {},
   "outputs": [],
   "source": [
    "api = Api(AIRTABLE_API_KEY)\n",
    "regrid_table = api.table(BASE_ID, \"Regrid Output\")"
   ]
  },
  {
   "cell_type": "code",
   "execution_count": null,
   "id": "ca26230d",
   "metadata": {},
   "outputs": [],
   "source": [
    "# test upload\n",
    "# try:\n",
    "#     regrid_table.create(all_parcel_data[0])\n",
    "#     print(\"✅ Successfully uploaded first record to Airtable.\")\n",
    "# except Exception as e:\n",
    "#     print(f\"❌ Error uploading record: {e}\")"
   ]
  },
  {
   "cell_type": "code",
   "execution_count": null,
   "id": "841009f6",
   "metadata": {},
   "outputs": [],
   "source": [
    "# print(\"\\n\".join([f'- [ ] {field}' for field in all_parcel_data[0].keys()]))"
   ]
  },
  {
   "cell_type": "markdown",
   "id": "9c068d02",
   "metadata": {},
   "source": [
    "## 🧹 Step 10: Clean DataFrame (Replace NaN with None)\n",
    "\n",
    "Convert all NaN values in the DataFrame to None to ensure compatibility with JSON serialization when uploading to Airtable."
   ]
  },
  {
   "cell_type": "code",
   "execution_count": null,
   "id": "2af4698e",
   "metadata": {},
   "outputs": [],
   "source": [
    "df.head()"
   ]
  },
  {
   "cell_type": "code",
   "execution_count": null,
   "id": "5c0b1a3f",
   "metadata": {},
   "outputs": [],
   "source": [
    "# Convert NaN to None (to avoid JSON errors)\n",
    "df_cleaned = df.where(pd.notnull(df), None)\n",
    "# df_cleaned = df.replace({np.nan: None})\n",
    "# df_cleaned = df.map(lambda x: None if pd.isna(x) else x)\n",
    "# Replace NaN and <NA> in \"Last Sale Price\" and \"Year Built\" with None\n",
    "# for col in [\"Last Sale Price\", \"Year Built\"]:\n",
    "#     df_cleaned[col] = df_cleaned[col].apply(lambda x: None if pd.isna(x) else x)\n",
    "df_cleaned.head()"
   ]
  },
  {
   "cell_type": "markdown",
   "id": "ecbe3f83",
   "metadata": {},
   "source": [
    "### Checking data types again before uploading"
   ]
  },
  {
   "cell_type": "code",
   "execution_count": null,
   "id": "94a01ab8",
   "metadata": {},
   "outputs": [],
   "source": [
    "print(df_cleaned.dtypes)"
   ]
  },
  {
   "cell_type": "markdown",
   "id": "5a894d65",
   "metadata": {},
   "source": [
    "### Converting the cleaned df, `df_cleaned` to a list of dictionaries to upload to airtable: `records_to_upload`"
   ]
  },
  {
   "cell_type": "code",
   "execution_count": null,
   "id": "d27eefbe",
   "metadata": {},
   "outputs": [],
   "source": [
    "records_to_upload = df_cleaned.to_dict(orient=\"records\")\n",
    "pprint.pprint(records_to_upload[0])"
   ]
  },
  {
   "cell_type": "code",
   "execution_count": null,
   "id": "14d0b31b",
   "metadata": {},
   "outputs": [],
   "source": [
    "# Show rows where Latitude or Longitude is NaN\n",
    "# df[df['Latitude'].isna() | df['Longitude'].isna()]"
   ]
  },
  {
   "cell_type": "markdown",
   "id": "06c1c5f7",
   "metadata": {},
   "source": [
    "## 🔁 Step 13: Update or Create Records in Airtable\n",
    "\n",
    "Loop through all records and upload to Airtable:\n",
    "\t•\tIf a record with the same APN already exists, update it.\n",
    "\t•\tIf it doesn’t exist, create a new one.\n",
    "This ensures deduplication and allows the table to stay synced."
   ]
  },
  {
   "cell_type": "code",
   "execution_count": null,
   "id": "98edf172",
   "metadata": {},
   "outputs": [],
   "source": [
    "for record in records_to_upload:\n",
    "    apn = record.get(\"APN\")\n",
    "\n",
    "    try:\n",
    "        # Look for an existing record with matching APN\n",
    "        existing = regrid_table.first(formula=match({\"APN\": apn}))\n",
    "\n",
    "        if existing:\n",
    "            # Update existing record\n",
    "            regrid_table.update(existing['id'], record)\n",
    "            print(f\"🔁 Updated record for APN: {apn}\")\n",
    "        else:\n",
    "            # Create new record\n",
    "            regrid_table.create(record)\n",
    "            print(f\"✅ Created new record for APN: {apn}\")\n",
    "\n",
    "        time.sleep(0.25)  # Prevent hitting Airtable's rate limit\n",
    "\n",
    "    except Exception as e:\n",
    "        print(f\"❌ Error processing APN {apn}: {e}\")"
   ]
  },
  {
   "cell_type": "markdown",
   "id": "5f165e8b",
   "metadata": {},
   "source": [
    "## 🔁 Step 14: Pull Data from Airtable (Regrid Output Table)\n",
    "We treat Airtable's **Regrid Output** table as our **source of truth**. This table contains only the currently owned properties and includes both automated Regrid fields and manually entered fields like `Insurance`, `Units`, `Property Type`, and more.\n",
    "\n",
    "We'll pull the data from Airtable so we can push it to Google Sheets for visualization in Looker Studio."
   ]
  },
  {
   "cell_type": "code",
   "execution_count": 431,
   "id": "b7225409",
   "metadata": {},
   "outputs": [
    {
     "name": "stderr",
     "output_type": "stream",
     "text": [
      "/var/folders/6d/4lz7w_g12fn5bdx81b02gdyc0000gn/T/ipykernel_92645/2805409874.py:3: DeprecationWarning: Passing API keys or base IDs to pyairtable.Table is deprecated; use Api.table() or Base.table() instead. See https://pyairtable.rtfd.org/en/latest/migrations.html for details.\n",
      "  table = Table(AIRTABLE_API_KEY, BASE_ID, TABLE)\n"
     ]
    },
    {
     "data": {
      "text/html": [
       "<div>\n",
       "<style scoped>\n",
       "    .dataframe tbody tr th:only-of-type {\n",
       "        vertical-align: middle;\n",
       "    }\n",
       "\n",
       "    .dataframe tbody tr th {\n",
       "        vertical-align: top;\n",
       "    }\n",
       "\n",
       "    .dataframe thead th {\n",
       "        text-align: right;\n",
       "    }\n",
       "</style>\n",
       "<table border=\"1\" class=\"dataframe\">\n",
       "  <thead>\n",
       "    <tr style=\"text-align: right;\">\n",
       "      <th></th>\n",
       "      <th>APN</th>\n",
       "      <th>Property Address</th>\n",
       "      <th>City (Physical)</th>\n",
       "      <th>State</th>\n",
       "      <th>County</th>\n",
       "      <th>ZIP Code</th>\n",
       "      <th>Owner</th>\n",
       "      <th>Latitude</th>\n",
       "      <th>Longitude</th>\n",
       "      <th>Use Code</th>\n",
       "      <th>Use Description</th>\n",
       "      <th>Zoning</th>\n",
       "      <th>Zoning Description</th>\n",
       "      <th>Last Sale Date</th>\n",
       "      <th>Last Sale Price</th>\n",
       "      <th>Year Built</th>\n",
       "      <th>City (County Reported)</th>\n",
       "      <th>Lot SqFt</th>\n",
       "      <th>Lot Acres</th>\n",
       "      <th>Subdivision</th>\n",
       "      <th>Qualified Opportunity Zone</th>\n",
       "      <th>Currently Owned</th>\n",
       "    </tr>\n",
       "  </thead>\n",
       "  <tbody>\n",
       "    <tr>\n",
       "      <th>0</th>\n",
       "      <td>11618113</td>\n",
       "      <td>1438 E POLK ST</td>\n",
       "      <td>PHOENIX</td>\n",
       "      <td>AZ</td>\n",
       "      <td>maricopa</td>\n",
       "      <td>85006</td>\n",
       "      <td>MI CASA PROPERTY LLC</td>\n",
       "      <td>33.453107</td>\n",
       "      <td>-112.050640</td>\n",
       "      <td>8613</td>\n",
       "      <td>ONE SFR / ONE TRIPLEX</td>\n",
       "      <td>R-4</td>\n",
       "      <td>Multiple Family Residence</td>\n",
       "      <td>2013-06-07</td>\n",
       "      <td>237960.0</td>\n",
       "      <td>1910.0</td>\n",
       "      <td>phoenix</td>\n",
       "      <td>23709</td>\n",
       "      <td>0.54427</td>\n",
       "      <td>GERMANIA PLACE LOTS 4-11,15-19,21,22,31-36</td>\n",
       "      <td>No</td>\n",
       "      <td>Yes</td>\n",
       "    </tr>\n",
       "    <tr>\n",
       "      <th>1</th>\n",
       "      <td>505311480</td>\n",
       "      <td>1149 E 4TH ST</td>\n",
       "      <td>CASA GRANDE</td>\n",
       "      <td>AZ</td>\n",
       "      <td>pinal</td>\n",
       "      <td>85122</td>\n",
       "      <td>MI CASA PROPERTY LTD LBLTY CO</td>\n",
       "      <td>32.876370</td>\n",
       "      <td>-111.735920</td>\n",
       "      <td>0121</td>\n",
       "      <td>Residential</td>\n",
       "      <td>R-1</td>\n",
       "      <td>Single Family Residential</td>\n",
       "      <td>2010-10-04</td>\n",
       "      <td>136250.0</td>\n",
       "      <td>1987.0</td>\n",
       "      <td>casa-grande</td>\n",
       "      <td>5224</td>\n",
       "      <td>0.11992</td>\n",
       "      <td>NaN</td>\n",
       "      <td>No</td>\n",
       "      <td>Yes</td>\n",
       "    </tr>\n",
       "    <tr>\n",
       "      <th>2</th>\n",
       "      <td>5328022066</td>\n",
       "      <td>1330 OAK VIEW AVE</td>\n",
       "      <td>SAN MARINO</td>\n",
       "      <td>CA</td>\n",
       "      <td>los-angeles</td>\n",
       "      <td>91108</td>\n",
       "      <td>HSU,MARY M</td>\n",
       "      <td>34.124177</td>\n",
       "      <td>-118.118688</td>\n",
       "      <td>0101</td>\n",
       "      <td>Residential - Single</td>\n",
       "      <td>R-1-I</td>\n",
       "      <td>Single Family Dwelling District I</td>\n",
       "      <td>1998-06-24</td>\n",
       "      <td>1010010.0</td>\n",
       "      <td>2000.0</td>\n",
       "      <td>pasadena</td>\n",
       "      <td>25534</td>\n",
       "      <td>0.58616</td>\n",
       "      <td>NaN</td>\n",
       "      <td>No</td>\n",
       "      <td>Yes</td>\n",
       "    </tr>\n",
       "    <tr>\n",
       "      <th>3</th>\n",
       "      <td>4453036004</td>\n",
       "      <td>NaN</td>\n",
       "      <td>NaN</td>\n",
       "      <td>CA</td>\n",
       "      <td>los-angeles</td>\n",
       "      <td>90265</td>\n",
       "      <td>MI CASA HOLDINGS LTD</td>\n",
       "      <td>34.051800</td>\n",
       "      <td>-118.651669</td>\n",
       "      <td>010V</td>\n",
       "      <td>Residential - Single</td>\n",
       "      <td>R-C-20</td>\n",
       "      <td>Rural Coastal</td>\n",
       "      <td>2010-12-09</td>\n",
       "      <td>110000.0</td>\n",
       "      <td>NaN</td>\n",
       "      <td>agoura-hills-malibu</td>\n",
       "      <td>433524</td>\n",
       "      <td>9.95214</td>\n",
       "      <td>NaN</td>\n",
       "      <td>No</td>\n",
       "      <td>Yes</td>\n",
       "    </tr>\n",
       "    <tr>\n",
       "      <th>4</th>\n",
       "      <td>0253204080000</td>\n",
       "      <td>18889 VALLEY BLVD</td>\n",
       "      <td>BLOOMINGTON</td>\n",
       "      <td>CA</td>\n",
       "      <td>san-bernardino</td>\n",
       "      <td>92316</td>\n",
       "      <td>MI CASA PROPERTY LLC</td>\n",
       "      <td>34.070157</td>\n",
       "      <td>-117.392596</td>\n",
       "      <td>510</td>\n",
       "      <td>SFR</td>\n",
       "      <td>VC/COM</td>\n",
       "      <td>Valley Corridor Specific Plan Commercial</td>\n",
       "      <td>2010-09-28</td>\n",
       "      <td>67000.0</td>\n",
       "      <td>1912.0</td>\n",
       "      <td>san-bernardino</td>\n",
       "      <td>6487</td>\n",
       "      <td>0.14892</td>\n",
       "      <td>NaN</td>\n",
       "      <td>Yes</td>\n",
       "      <td>Yes</td>\n",
       "    </tr>\n",
       "  </tbody>\n",
       "</table>\n",
       "</div>"
      ],
      "text/plain": [
       "             APN   Property Address City (Physical) State          County  \\\n",
       "0       11618113     1438 E POLK ST         PHOENIX    AZ        maricopa   \n",
       "1      505311480      1149 E 4TH ST     CASA GRANDE    AZ           pinal   \n",
       "2     5328022066  1330 OAK VIEW AVE      SAN MARINO    CA     los-angeles   \n",
       "3     4453036004                NaN             NaN    CA     los-angeles   \n",
       "4  0253204080000  18889 VALLEY BLVD     BLOOMINGTON    CA  san-bernardino   \n",
       "\n",
       "  ZIP Code                          Owner   Latitude   Longitude Use Code  \\\n",
       "0    85006           MI CASA PROPERTY LLC  33.453107 -112.050640     8613   \n",
       "1    85122  MI CASA PROPERTY LTD LBLTY CO  32.876370 -111.735920     0121   \n",
       "2    91108                     HSU,MARY M  34.124177 -118.118688     0101   \n",
       "3    90265           MI CASA HOLDINGS LTD  34.051800 -118.651669     010V   \n",
       "4    92316           MI CASA PROPERTY LLC  34.070157 -117.392596      510   \n",
       "\n",
       "         Use Description  Zoning                        Zoning Description  \\\n",
       "0  ONE SFR / ONE TRIPLEX     R-4                 Multiple Family Residence   \n",
       "1            Residential     R-1                 Single Family Residential   \n",
       "2   Residential - Single   R-1-I         Single Family Dwelling District I   \n",
       "3   Residential - Single  R-C-20                             Rural Coastal   \n",
       "4                    SFR  VC/COM  Valley Corridor Specific Plan Commercial   \n",
       "\n",
       "  Last Sale Date Last Sale Price Year Built City (County Reported)  Lot SqFt  \\\n",
       "0     2013-06-07        237960.0     1910.0                phoenix     23709   \n",
       "1     2010-10-04        136250.0     1987.0            casa-grande      5224   \n",
       "2     1998-06-24       1010010.0     2000.0               pasadena     25534   \n",
       "3     2010-12-09        110000.0        NaN    agoura-hills-malibu    433524   \n",
       "4     2010-09-28         67000.0     1912.0         san-bernardino      6487   \n",
       "\n",
       "   Lot Acres                                 Subdivision  \\\n",
       "0    0.54427  GERMANIA PLACE LOTS 4-11,15-19,21,22,31-36   \n",
       "1    0.11992                                         NaN   \n",
       "2    0.58616                                         NaN   \n",
       "3    9.95214                                         NaN   \n",
       "4    0.14892                                         NaN   \n",
       "\n",
       "  Qualified Opportunity Zone Currently Owned  \n",
       "0                         No             Yes  \n",
       "1                         No             Yes  \n",
       "2                         No             Yes  \n",
       "3                         No             Yes  \n",
       "4                        Yes             Yes  "
      ]
     },
     "execution_count": 431,
     "metadata": {},
     "output_type": "execute_result"
    }
   ],
   "source": [
    "TABLE = \"Regrid\"\n",
    "\n",
    "table = Table(AIRTABLE_API_KEY, BASE_ID, TABLE)\n",
    "\n",
    "# Fetch all records\n",
    "records = table.all()\n",
    "\n",
    "# Convert to DataFrame\n",
    "airtable_data = pd.DataFrame([record['fields'] for record in records])\n",
    "airtable_data.head()"
   ]
  },
  {
   "cell_type": "markdown",
   "id": "5fc2182b",
   "metadata": {},
   "source": [
    "## 📤 Step 15: Upload Data to Google Sheets\n",
    "We use the `gspread` and `gspread_dataframe` libraries to upload the cleaned DataFrame to a specific worksheet in Google Sheets.\n",
    "\n",
    "We **clear the sheet** first to avoid duplicates, then upload the latest Airtable data. This Google Sheet will serve as the data source for our Looker Studio dashboard."
   ]
  },
  {
   "cell_type": "code",
   "execution_count": null,
   "id": "d68aea04",
   "metadata": {},
   "outputs": [],
   "source": [
    "# Load credentials from JSON\n",
    "scope = [\"https://spreadsheets.google.com/feeds\", \"https://www.googleapis.com/auth/drive\"]\n",
    "creds = ServiceAccountCredentials.from_json_keyfile_name(\"google_creds.json\", scope)\n",
    "client = gspread.authorize(creds)\n",
    "\n",
    "# Open the sheet\n",
    "worksheet = client.open(\"Airtable Regrid Output\").worksheet(\"Sheet1\")\n",
    "\n",
    "# Clear and upload data\n",
    "worksheet.clear()\n",
    "set_with_dataframe(worksheet, airtable_data)\n",
    "\n",
    "print(\"✅ Airtable data synced to Google Sheets.\")"
   ]
  },
  {
   "cell_type": "code",
   "execution_count": null,
   "id": "35aa4383",
   "metadata": {},
   "outputs": [],
   "source": []
  }
 ],
 "metadata": {
  "kernelspec": {
   "display_name": "Regrid Environment",
   "language": "python",
   "name": "regrid_env"
  },
  "language_info": {
   "codemirror_mode": {
    "name": "ipython",
    "version": 3
   },
   "file_extension": ".py",
   "mimetype": "text/x-python",
   "name": "python",
   "nbconvert_exporter": "python",
   "pygments_lexer": "ipython3",
   "version": "3.12.7"
  }
 },
 "nbformat": 4,
 "nbformat_minor": 5
}
